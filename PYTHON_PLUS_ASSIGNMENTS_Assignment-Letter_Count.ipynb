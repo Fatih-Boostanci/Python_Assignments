{
 "cells": [
  {
   "cell_type": "markdown",
   "id": "c000594b",
   "metadata": {},
   "source": [
    "## Assignment - 011/08 (Letter Count)"
   ]
  },
  {
   "cell_type": "markdown",
   "id": "48c8b4ef",
   "metadata": {},
   "source": [
    "<b>💡Objective:\n",
    "To improve your control flow statement skill and dictionary knowledge."
   ]
  },
  {
   "cell_type": "markdown",
   "id": "18a9eb78",
   "metadata": {},
   "source": [
    "<b> Task:\n",
    "\n",
    "<b> Count the number of each letter in a sentence.\n",
    "    \n",
    "** The department you work for undertook a project construction that makes word / text analysis. \n",
    "** You are asked to calculate the number of letters or any chars in the sentences entered under this project.\n",
    "    \n",
    "** Write a Python program that;\n",
    "takes a sentence from the user,\n",
    "** counts the number of each letter/chars of the sentence,<br>\n",
    "** collects the letters/chars as a key and the counted numbers as a value in a dictionary."
   ]
  },
  {
   "cell_type": "markdown",
   "id": "9a858d19",
   "metadata": {},
   "source": [
    "### Solution"
   ]
  },
  {
   "cell_type": "code",
   "execution_count": null,
   "id": "9309514f",
   "metadata": {},
   "outputs": [],
   "source": [
    "# def char_freq(sentence= input(\"Please enter a sentence: \")) :\n",
    "#     \n",
    "#     sentence = sentence.lower()\n",
    "\n",
    "#     return {c: sentence.count(c) for c in set(sentence)}\n",
    "    \n",
    "# char_freq()"
   ]
  },
  {
   "cell_type": "code",
   "execution_count": null,
   "id": "fbb3f694",
   "metadata": {},
   "outputs": [],
   "source": []
  }
 ],
 "metadata": {
  "kernelspec": {
   "display_name": "Python 3 (ipykernel)",
   "language": "python",
   "name": "python3"
  },
  "language_info": {
   "codemirror_mode": {
    "name": "ipython",
    "version": 3
   },
   "file_extension": ".py",
   "mimetype": "text/x-python",
   "name": "python",
   "nbconvert_exporter": "python",
   "pygments_lexer": "ipython3",
   "version": "3.9.10"
  }
 },
 "nbformat": 4,
 "nbformat_minor": 5
}
