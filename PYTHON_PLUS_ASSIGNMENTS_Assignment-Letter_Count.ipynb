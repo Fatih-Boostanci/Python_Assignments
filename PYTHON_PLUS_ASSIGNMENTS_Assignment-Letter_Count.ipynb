{
 "cells": [
  {
   "cell_type": "markdown",
   "id": "c000594b",
   "metadata": {},
   "source": [
    "## Assignment - 011/08 (Letter Count)"
   ]
  },
  {
   "cell_type": "markdown",
   "id": "48c8b4ef",
   "metadata": {},
   "source": [
    "<b>💡Objective:\n",
    "To improve your control flow statement skill and dictionary knowledge."
   ]
  },
  {
   "cell_type": "markdown",
   "id": "18a9eb78",
   "metadata": {},
   "source": [
    "<b> Task:\n",
    "\n",
    "<b> Count the number of each letter in a sentence.\n",
    "    \n",
    "** The department you work for undertook a project construction that makes word / text analysis. \n",
    "** You are asked to calculate the number of letters or any chars in the sentences entered under this project.\n",
    "    \n",
    "** Write a Python program that;\n",
    "takes a sentence from the user,\n",
    "** counts the number of each letter/chars of the sentence,<br>\n",
    "** collects the letters/chars as a key and the counted numbers as a value in a dictionary."
   ]
  },
  {
   "cell_type": "markdown",
   "id": "3f219e31",
   "metadata": {},
   "source": [
    "### Solution-1"
   ]
  },
  {
   "cell_type": "code",
   "execution_count": 4,
   "id": "5e3174b9",
   "metadata": {},
   "outputs": [],
   "source": [
    "# def char_frequency(sentence):\n",
    "\n",
    "#     sen_dict = {}\n",
    "\n",
    "#     for n in sentence :\n",
    "    \n",
    "#         if n in sen_dict :\n",
    "#             sen_dict[n] += 1\n",
    "        \n",
    "#         else :\n",
    "#             sen_dict[n] = 1\n",
    "        \n",
    "#     return sen_dict"
   ]
  },
  {
   "cell_type": "code",
   "execution_count": 3,
   "id": "9a7ebb8f",
   "metadata": {},
   "outputs": [
    {
     "name": "stdout",
     "output_type": "stream",
     "text": [
      "{'I': 1, ' ': 3, 'a': 3, 'm': 2, 'e': 1, 'l': 2, 'n': 1, 'c': 2, 'o': 2, 'i': 1, 't': 1, 'd': 1, 'y': 1, '.': 1}\n"
     ]
    }
   ],
   "source": [
    "# print(char_frequency(\"I am melancolic today.\"))"
   ]
  },
  {
   "cell_type": "markdown",
   "id": "9a858d19",
   "metadata": {},
   "source": [
    "### Solution-2"
   ]
  },
  {
   "cell_type": "code",
   "execution_count": null,
   "id": "9309514f",
   "metadata": {},
   "outputs": [],
   "source": [
    "# def char_freq(sentence= input(\"Please enter a sentence: \")) :\n",
    "#     \n",
    "#     sentence = sentence.lower()\n",
    "\n",
    "#     return {c: sentence.count(c) for c in set(sentence)}\n",
    "    \n",
    "# char_freq()"
   ]
  },
  {
   "cell_type": "markdown",
   "id": "45acbcbb",
   "metadata": {},
   "source": [
    "### Solution-3"
   ]
  },
  {
   "cell_type": "code",
   "execution_count": null,
   "id": "e3f10e40",
   "metadata": {},
   "outputs": [],
   "source": [
    "# flat = ''.join(word_list)\n",
    "# {l: flat.count(l) for l in set(flat)}\n",
    "# {'a': 2, 'b': 1, 'c': 1, 'd': 1, 'e': 1, 'z': 1}"
   ]
  },
  {
   "cell_type": "markdown",
   "id": "b792a01e",
   "metadata": {},
   "source": [
    "### Solution-4"
   ]
  },
  {
   "cell_type": "code",
   "execution_count": null,
   "id": "6f1abfda",
   "metadata": {},
   "outputs": [],
   "source": [
    "# from collections import Counter\n",
    "\n",
    "# print Counter(''.join(word_list))\n",
    "# Counter({'a': 2, 'c': 1, 'b': 1, 'e': 1, 'd': 1, 'z': 1})"
   ]
  },
  {
   "cell_type": "markdown",
   "id": "c0b775cc",
   "metadata": {},
   "source": [
    "### Solution-5"
   ]
  },
  {
   "cell_type": "code",
   "execution_count": null,
   "id": "286479b8",
   "metadata": {},
   "outputs": [],
   "source": [
    "# def char_freq(sentence= input(\"Please enter a sentence: \")) :\n",
    "#     sentence = sentence.lower()\n",
    "#     return {c: sentence.count(c) for c in set(sentence)}\n",
    "    \n",
    "# char_freq()"
   ]
  },
  {
   "cell_type": "code",
   "execution_count": null,
   "id": "285dc21a",
   "metadata": {},
   "outputs": [],
   "source": []
  },
  {
   "cell_type": "code",
   "execution_count": null,
   "id": "52efb202",
   "metadata": {},
   "outputs": [],
   "source": []
  }
 ],
 "metadata": {
  "kernelspec": {
   "display_name": "Python 3 (ipykernel)",
   "language": "python",
   "name": "python3"
  },
  "language_info": {
   "codemirror_mode": {
    "name": "ipython",
    "version": 3
   },
   "file_extension": ".py",
   "mimetype": "text/x-python",
   "name": "python",
   "nbconvert_exporter": "python",
   "pygments_lexer": "ipython3",
   "version": "3.9.7"
  }
 },
 "nbformat": 4,
 "nbformat_minor": 5
}
