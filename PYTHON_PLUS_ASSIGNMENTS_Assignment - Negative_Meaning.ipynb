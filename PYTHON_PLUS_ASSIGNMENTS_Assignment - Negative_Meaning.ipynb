{
 "cells": [
  {
   "cell_type": "markdown",
   "id": "61f14392",
   "metadata": {},
   "source": [
    "## Assignment - 3 (Negative Meaning) "
   ]
  },
  {
   "cell_type": "markdown",
   "id": "61d0db26",
   "metadata": {},
   "source": [
    "- Define a function to take a word and return negative meaning.\n",
    "- Given a word, return a new word where \"not \" has been added to the front. However, if the word already begins with -  - \"not\", return the string unchanged."
   ]
  },
  {
   "cell_type": "code",
   "execution_count": 1,
   "id": "0f2974e7",
   "metadata": {},
   "outputs": [],
   "source": [
    "#def not_string(word) :\n",
    "    \n",
    "#    if word.startswith(\"not\") :\n",
    "        \n",
    "#        return word\n",
    "        \n",
    "#    else :\n",
    "        \n",
    "#        return \"not \" + word\n",
    "        "
   ]
  },
  {
   "cell_type": "code",
   "execution_count": 3,
   "id": "1f749a7f",
   "metadata": {},
   "outputs": [
    {
     "data": {
      "text/plain": [
       "'not quit'"
      ]
     },
     "execution_count": 3,
     "metadata": {},
     "output_type": "execute_result"
    }
   ],
   "source": [
    "# not_string(\"quit\")"
   ]
  },
  {
   "cell_type": "code",
   "execution_count": null,
   "id": "c889afe6",
   "metadata": {},
   "outputs": [],
   "source": []
  }
 ],
 "metadata": {
  "kernelspec": {
   "display_name": "Python 3 (ipykernel)",
   "language": "python",
   "name": "python3"
  },
  "language_info": {
   "codemirror_mode": {
    "name": "ipython",
    "version": 3
   },
   "file_extension": ".py",
   "mimetype": "text/x-python",
   "name": "python",
   "nbconvert_exporter": "python",
   "pygments_lexer": "ipython3",
   "version": "3.9.7"
  }
 },
 "nbformat": 4,
 "nbformat_minor": 5
}
