{
 "cells": [
  {
   "cell_type": "markdown",
   "id": "e2792d30",
   "metadata": {},
   "source": [
    "## Assignment - 4 (Missing Char)"
   ]
  },
  {
   "cell_type": "markdown",
   "id": "179849a6",
   "metadata": {},
   "source": [
    "__💡 Objective :\n",
    "To improve your defining function skills and string indexing ability.__"
   ]
  },
  {
   "cell_type": "markdown",
   "id": "c12f7b19",
   "metadata": {},
   "source": [
    "__Given a non-empty string and an int n, return a new string where the character at index n has been removed. The value of n will be a valid index of a character in the original string (i.e. n will be in the range 0....len(str)-1 inclusive).__"
   ]
  },
  {
   "cell_type": "code",
   "execution_count": 1,
   "id": "7be3fe4e",
   "metadata": {},
   "outputs": [],
   "source": [
    "# def missing_char(word, n) :\n",
    "\n",
    "#     word = word.replace(word[n], \"\")\n",
    "    \n",
    "#     return word"
   ]
  },
  {
   "cell_type": "code",
   "execution_count": 2,
   "id": "c65e3fad",
   "metadata": {},
   "outputs": [
    {
     "data": {
      "text/plain": [
       "'fati'"
      ]
     },
     "execution_count": 2,
     "metadata": {},
     "output_type": "execute_result"
    }
   ],
   "source": [
    "# missing_char(\"fatih\", 4)"
   ]
  },
  {
   "cell_type": "code",
   "execution_count": null,
   "id": "2ad71fc8",
   "metadata": {},
   "outputs": [],
   "source": []
  }
 ],
 "metadata": {
  "kernelspec": {
   "display_name": "Python 3 (ipykernel)",
   "language": "python",
   "name": "python3"
  },
  "language_info": {
   "codemirror_mode": {
    "name": "ipython",
    "version": 3
   },
   "file_extension": ".py",
   "mimetype": "text/x-python",
   "name": "python",
   "nbconvert_exporter": "python",
   "pygments_lexer": "ipython3",
   "version": "3.9.7"
  }
 },
 "nbformat": 4,
 "nbformat_minor": 5
}
