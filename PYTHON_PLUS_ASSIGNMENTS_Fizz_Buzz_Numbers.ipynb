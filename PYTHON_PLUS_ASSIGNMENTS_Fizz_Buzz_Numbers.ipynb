{
 "cells": [
  {
   "cell_type": "markdown",
   "id": "e86bf400",
   "metadata": {},
   "source": [
    "## Assignment - 011/07 (Fizz - Buzz Numbers) "
   ]
  },
  {
   "cell_type": "markdown",
   "id": "04af1245",
   "metadata": {},
   "source": [
    "<b>Task : Print the Fizz Buzz numbers."
   ]
  },
  {
   "cell_type": "markdown",
   "id": "d4e7a022",
   "metadata": {},
   "source": [
    "<b>Fizz Buzz is a famous code challenge used in interviews to test basic programming skills. It's time to write your own implementation."
   ]
  },
  {
   "cell_type": "markdown",
   "id": "b100b900",
   "metadata": {},
   "source": [
    "Print numbers from 1 to 100 inclusively following these instructions:\n",
    "\n",
    "    1. if a number is multiple of 3, print \"Fizz\" instead of this number,\n",
    "    2. if a number is multiple of 5, print \"Buzz\" instead of this number,\n",
    "    3. for numbers that are multiples of both 3 and 5, print \"FizzBuzz\",\n",
    "    4. print the rest of the numbers unchanged.\n",
    "    \n",
    "Output each value on a separate line."
   ]
  },
  {
   "cell_type": "markdown",
   "id": "c084ad92",
   "metadata": {},
   "source": [
    "### WAY_1"
   ]
  },
  {
   "cell_type": "code",
   "execution_count": null,
   "id": "07b6c996",
   "metadata": {},
   "outputs": [],
   "source": [
    "#for fb in range(1, 101) :\n",
    "#    \n",
    "#    if  fb % 3 == 0 and i % 5 == 0 :\n",
    "#        print(\"FizzBuzz\")\n",
    "#    elif fb % 5 == 0 :\n",
    "#        print(\"Buzz\")\n",
    "#    elif fb % 3 == 0 :\n",
    "#        print(\"Fizz\")\n",
    "#    else :\n",
    "#        print(fb)"
   ]
  },
  {
   "cell_type": "markdown",
   "id": "6c0f77ee",
   "metadata": {},
   "source": [
    "### WAY_2"
   ]
  },
  {
   "cell_type": "code",
   "execution_count": null,
   "id": "9613e17d",
   "metadata": {},
   "outputs": [],
   "source": [
    "#for i in range(1,101) :\n",
    "#    fb = \"\"\n",
    "#    if i % 3 == 0 :\n",
    "#        fb = fb + \"Fizz\"\n",
    "#    if i % 5 == 0 :\n",
    "#        fb = fb + \"Buzz\"\n",
    "#    if i % 3 != 0 and i % 5 != 0:\n",
    "#        fb = fb + str(i)\n",
    "#print(fb)"
   ]
  },
  {
   "cell_type": "code",
   "execution_count": null,
   "id": "2cbc6509",
   "metadata": {},
   "outputs": [],
   "source": []
  }
 ],
 "metadata": {
  "kernelspec": {
   "display_name": "Python 3 (ipykernel)",
   "language": "python",
   "name": "python3"
  },
  "language_info": {
   "codemirror_mode": {
    "name": "ipython",
    "version": 3
   },
   "file_extension": ".py",
   "mimetype": "text/x-python",
   "name": "python",
   "nbconvert_exporter": "python",
   "pygments_lexer": "ipython3",
   "version": "3.9.7"
  }
 },
 "nbformat": 4,
 "nbformat_minor": 5
}
