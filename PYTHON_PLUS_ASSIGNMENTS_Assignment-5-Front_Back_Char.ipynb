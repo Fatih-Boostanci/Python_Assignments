{
 "cells": [
  {
   "cell_type": "markdown",
   "id": "2f6eb3cc",
   "metadata": {},
   "source": [
    "## Assignment - 5 (Front-Back Char)"
   ]
  },
  {
   "cell_type": "markdown",
   "id": "85bdfbb9",
   "metadata": {},
   "source": [
    "__💡 Objective :\n",
    "To improve your defining function and string skills.__"
   ]
  },
  {
   "cell_type": "markdown",
   "id": "18de717b",
   "metadata": {},
   "source": [
    "__Given a string, return a new string where the first and last chars have been exchanged.__"
   ]
  },
  {
   "cell_type": "markdown",
   "id": "f5a69364",
   "metadata": {},
   "source": [
    "### Solution-1"
   ]
  },
  {
   "cell_type": "code",
   "execution_count": 1,
   "id": "9fcab89f",
   "metadata": {},
   "outputs": [
    {
     "name": "stdout",
     "output_type": "stream",
     "text": [
      "hatif\n"
     ]
    }
   ],
   "source": [
    "# def front_back_char(s) :\n",
    "    \n",
    "#     if len(s) > 1 :\n",
    "        \n",
    "#         s = s[-1] + s[1:-1] + s[0]\n",
    "    \n",
    "#         return s\n",
    "    \n",
    "#     else :\n",
    "        \n",
    "#         return s\n",
    "    \n",
    "# print(front_back_char(\"fatih\"))"
   ]
  },
  {
   "cell_type": "code",
   "execution_count": 2,
   "id": "d0978022",
   "metadata": {},
   "outputs": [
    {
     "data": {
      "text/plain": [
       "'a'"
      ]
     },
     "execution_count": 2,
     "metadata": {},
     "output_type": "execute_result"
    }
   ],
   "source": [
    "# front_back_char(\"a\")"
   ]
  },
  {
   "cell_type": "markdown",
   "id": "f3267685",
   "metadata": {},
   "source": [
    "### Solution-2"
   ]
  },
  {
   "cell_type": "code",
   "execution_count": 3,
   "id": "1722647c",
   "metadata": {},
   "outputs": [],
   "source": [
    "# def front_back_char(s) :\n",
    "    \n",
    "#     s = s[-1] + s[1:-1] + s[0] if len(s) > 1 else s\n",
    "    \n",
    "#     return s"
   ]
  },
  {
   "cell_type": "code",
   "execution_count": 4,
   "id": "5a18b37c",
   "metadata": {},
   "outputs": [
    {
     "name": "stdout",
     "output_type": "stream",
     "text": [
      "hatif\n"
     ]
    }
   ],
   "source": [
    "# print(front_back_char(\"fatih\"))"
   ]
  },
  {
   "cell_type": "code",
   "execution_count": 5,
   "id": "4eb67688",
   "metadata": {},
   "outputs": [
    {
     "data": {
      "text/plain": [
       "'a'"
      ]
     },
     "execution_count": 5,
     "metadata": {},
     "output_type": "execute_result"
    }
   ],
   "source": [
    "# front_back_char(\"a\")"
   ]
  },
  {
   "cell_type": "code",
   "execution_count": null,
   "id": "245e5094",
   "metadata": {},
   "outputs": [],
   "source": []
  }
 ],
 "metadata": {
  "kernelspec": {
   "display_name": "Python 3 (ipykernel)",
   "language": "python",
   "name": "python3"
  },
  "language_info": {
   "codemirror_mode": {
    "name": "ipython",
    "version": 3
   },
   "file_extension": ".py",
   "mimetype": "text/x-python",
   "name": "python",
   "nbconvert_exporter": "python",
   "pygments_lexer": "ipython3",
   "version": "3.9.7"
  }
 },
 "nbformat": 4,
 "nbformat_minor": 5
}
