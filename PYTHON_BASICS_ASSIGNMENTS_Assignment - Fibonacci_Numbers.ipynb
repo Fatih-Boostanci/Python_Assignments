{
 "cells": [
  {
   "cell_type": "markdown",
   "id": "ac10dab4",
   "metadata": {},
   "source": [
    "\n",
    "## Assignment - 011/05 (Fibonacci Numbers)"
   ]
  },
  {
   "cell_type": "markdown",
   "id": "5ddcd915",
   "metadata": {},
   "source": [
    "### 💡Objective:\n",
    "### To improve your control flow statement skills and to raise your awareness of some algebraic knowledge."
   ]
  },
  {
   "cell_type": "markdown",
   "id": "258b2b9c",
   "metadata": {},
   "source": [
    "### Task : Create a list consisting of Fibonacci numbers<br>from 1 to 55 using control flow statements and range() function."
   ]
  },
  {
   "cell_type": "code",
   "execution_count": null,
   "id": "48d60e49",
   "metadata": {},
   "outputs": [],
   "source": [
    "## The desired output is like this:"
   ]
  },
  {
   "cell_type": "code",
   "execution_count": null,
   "id": "c10f4b90",
   "metadata": {},
   "outputs": [],
   "source": [
    "## fibonacci →  [1, 1, 2, 3, 5, 8, 13, 21, 34, 55]"
   ]
  },
  {
   "cell_type": "code",
   "execution_count": null,
   "id": "56f8786d",
   "metadata": {},
   "outputs": [],
   "source": [
    "### Fn = Fn-1 + Fn-2, where Fn is the (n + 1)th term and n > 1."
   ]
  },
  {
   "cell_type": "code",
   "execution_count": null,
   "id": "c3f97f3d",
   "metadata": {},
   "outputs": [],
   "source": [
    "# fibo = [1, 1]\n",
    "\n",
    "# n = 1\n",
    "    \n",
    "# for n in range (1, n+1) :\n",
    "    \n",
    "#     while fibo[-1] < 55 :\n",
    "        \n",
    "#         fibo.append(fibo[n] + fibo[n-1])\n",
    "        \n",
    "#         n += 1\n",
    "    \n",
    "#     break\n",
    "        \n",
    "# print(fibo)"
   ]
  },
  {
   "cell_type": "code",
   "execution_count": null,
   "id": "9feeebd7",
   "metadata": {},
   "outputs": [],
   "source": []
  }
 ],
 "metadata": {
  "kernelspec": {
   "display_name": "Python 3 (ipykernel)",
   "language": "python",
   "name": "python3"
  },
  "language_info": {
   "codemirror_mode": {
    "name": "ipython",
    "version": 3
   },
   "file_extension": ".py",
   "mimetype": "text/x-python",
   "name": "python",
   "nbconvert_exporter": "python",
   "pygments_lexer": "ipython3",
   "version": "3.9.7"
  }
 },
 "nbformat": 4,
 "nbformat_minor": 5
}
