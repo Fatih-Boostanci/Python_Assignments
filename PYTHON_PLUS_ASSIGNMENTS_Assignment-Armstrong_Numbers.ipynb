{
 "cells": [
  {
   "cell_type": "markdown",
   "id": "4900fc35",
   "metadata": {},
   "source": [
    "## Assignment - 011/03 (Armstrong Numbers)"
   ]
  },
  {
   "cell_type": "markdown",
   "id": "cd6ab5ab",
   "metadata": {},
   "source": [
    "__To improve your control flow statement and arithmetic operator algorithm skills.__"
   ]
  },
  {
   "cell_type": "markdown",
   "id": "4037cb3d",
   "metadata": {},
   "source": [
    "__Task: Find out if a given number is an \"Armstrong Number\".__"
   ]
  },
  {
   "cell_type": "markdown",
   "id": "70efd02a",
   "metadata": {},
   "source": [
    "An n-digit number that is the sum of the nth powers of its digits is called an n-Armstrong number.<br><br> \n",
    "__Examples :__\n",
    "\n",
    "1. __371 = 3**3 + 7**3 + 1**3;__\n",
    "2. __9474 = 9**4 + 4**4 + 7**4 + 4**4;__\n",
    "3. __93084 = 9**5 + 3**5 + 0**5 + 8**5 + 4**5__"
   ]
  },
  {
   "cell_type": "markdown",
   "id": "a89b26b7",
   "metadata": {},
   "source": [
    "__Write a Python program that;__<br>\n",
    "- __takes a positive integer number from the user,__\n",
    "- __checks the entered number if it is Armstrong,__\n",
    "- __consider the negative, float and any entries other than \n",
    "numeric values then display a warning message to the user.__"
   ]
  },
  {
   "cell_type": "code",
   "execution_count": null,
   "id": "171b7439",
   "metadata": {},
   "outputs": [],
   "source": [
    "# \"is an Armstrong number\""
   ]
  },
  {
   "cell_type": "code",
   "execution_count": null,
   "id": "ffe8734c",
   "metadata": {},
   "outputs": [],
   "source": [
    "## \"It is an invalid entry. Don't use non-numeric, float, or negative values!\""
   ]
  },
  {
   "cell_type": "code",
   "execution_count": null,
   "id": "c7f744b3",
   "metadata": {},
   "outputs": [],
   "source": [
    "# num = input(\"Please enter an armstrong number:  \")\n",
    "\n",
    "# if num.isdigit() :\n",
    "    \n",
    "#     n = len(num)\n",
    "#     num = int(num)\n",
    "#     arm = 0\n",
    "#     find_digit = num\n",
    "\n",
    "#     while find_digit > 0 :\n",
    "#         digit = find_digit % 10\n",
    "#         arm += digit ** n\n",
    "#         find_digit //= 10      ## find_digit = find_digit // 10\n",
    "     \n",
    "#     if num == arm :\n",
    "#         print(f\"{int(num)} is an Armstrong number\")\n",
    "        \n",
    "#     else :\n",
    "#         print(f\"{int(num)} is not an Armstrong number :(TRY AGAIN!\")\n",
    "    \n",
    "\n",
    "# else : \n",
    "    \n",
    "#     print(\"It is an invalid entry. Don't use non-numeric, float, or negative values!\")"
   ]
  },
  {
   "cell_type": "code",
   "execution_count": null,
   "id": "4c1eaaf7",
   "metadata": {},
   "outputs": [],
   "source": []
  }
 ],
 "metadata": {
  "kernelspec": {
   "display_name": "Python 3 (ipykernel)",
   "language": "python",
   "name": "python3"
  },
  "language_info": {
   "codemirror_mode": {
    "name": "ipython",
    "version": 3
   },
   "file_extension": ".py",
   "mimetype": "text/x-python",
   "name": "python",
   "nbconvert_exporter": "python",
   "pygments_lexer": "ipython3",
   "version": "3.9.7"
  }
 },
 "nbformat": 4,
 "nbformat_minor": 5
}
