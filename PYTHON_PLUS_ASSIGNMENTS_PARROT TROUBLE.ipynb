{
 "cells": [
  {
   "cell_type": "markdown",
   "id": "8b1d063b",
   "metadata": {},
   "source": [
    "## Assignment - 2 (Parrot Trouble) "
   ]
  },
  {
   "cell_type": "markdown",
   "id": "6d714871",
   "metadata": {},
   "source": [
    "### We have a loud talking parrot. We are in trouble if the parrot is talking and the hour is before 6 or after 21."
   ]
  },
  {
   "cell_type": "markdown",
   "id": "18c93394",
   "metadata": {},
   "source": [
    "### Define a function taking two parameters (talking and hour) to return True if we are in trouble. The argument to  talking parameter can only be True or False whether it is talking or not. The argument to hour parameter should be the current hour time in the range of 0 to 23."
   ]
  },
  {
   "cell_type": "code",
   "execution_count": null,
   "id": "87352e2d",
   "metadata": {},
   "outputs": [],
   "source": [
    "# def parrot_trouble(talking, hour) :\n",
    " \n",
    "    # if (hour < 6 or hour > 21) and talking == True :\n",
    "       \n",
    "        # return True\n",
    "    \n",
    "    # else :\n",
    "        \n",
    "        # return False"
   ]
  },
  {
   "cell_type": "code",
   "execution_count": null,
   "id": "4ea2a7ba",
   "metadata": {},
   "outputs": [],
   "source": [
    "# parrot_trouble(True, 23)\n",
    "# parrot_trouble(True, 9)\n",
    "# parrot_trouble(False, 23)\n",
    "# parrot_trouble(False, 9)"
   ]
  },
  {
   "cell_type": "code",
   "execution_count": null,
   "id": "31b45119",
   "metadata": {},
   "outputs": [],
   "source": []
  }
 ],
 "metadata": {
  "kernelspec": {
   "display_name": "Python 3 (ipykernel)",
   "language": "python",
   "name": "python3"
  },
  "language_info": {
   "codemirror_mode": {
    "name": "ipython",
    "version": 3
   },
   "file_extension": ".py",
   "mimetype": "text/x-python",
   "name": "python",
   "nbconvert_exporter": "python",
   "pygments_lexer": "ipython3",
   "version": "3.9.7"
  }
 },
 "nbformat": 4,
 "nbformat_minor": 5
}
