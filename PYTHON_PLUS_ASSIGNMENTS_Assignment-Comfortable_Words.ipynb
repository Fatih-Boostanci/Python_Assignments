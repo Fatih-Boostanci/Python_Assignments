{
 "cells": [
  {
   "cell_type": "markdown",
   "id": "8d013ec0",
   "metadata": {},
   "source": [
    "##  Assignment - 011/02 (Comfortable Words)"
   ]
  },
  {
   "cell_type": "markdown",
   "id": "b149cbc1",
   "metadata": {},
   "source": [
    "__To improve your knowledge of collection types (set), \n",
    "boolean logic and raise your awareness of \"ten fingers keyboard\"__"
   ]
  },
  {
   "cell_type": "markdown",
   "id": "8bb05a26",
   "metadata": {},
   "source": [
    "__Task : Find out if the given word is \"comfortable words\" \n",
    " in relation to the ten-finger keyboard use.__"
   ]
  },
  {
   "cell_type": "markdown",
   "id": "21bff063",
   "metadata": {},
   "source": [
    "- __A comfortable word is a word which you can type always \n",
    "alternating the hand you type with (assuming you type using a Q-keyboard\n",
    "and use of the ten-fingers standard).__<br>\n",
    "- __The word will always be a string consisting of only letters from a to z.__<br>\n",
    "- __Write a program which returns True if it's a comfortable word or False otherwise.__"
   ]
  },
  {
   "cell_type": "code",
   "execution_count": null,
   "id": "10f3c479",
   "metadata": {},
   "outputs": [],
   "source": [
    "# Left: q, w, e, r, t, a, s, d, f, g, z, x, c, v, b.\n",
    "    \n",
    "# Right: y, u, i, o, p, h, j, k, l, n, m."
   ]
  },
  {
   "cell_type": "code",
   "execution_count": null,
   "id": "73ee545e",
   "metadata": {},
   "outputs": [],
   "source": [
    "# comfy_word = input(\"Please enter a comfortable word: \").lower()\n",
    "# set_comfy_word = a = set(list(comfy_word))\n",
    "# left = [\"q\", \"w\", \"e\", \"r\", \"t\", \"a\", \"s\", \"d\", \"f\", \"g\", \"z\", \"x\", \"c\", \"v\", \"b\"]\n",
    "# right = [\"y\", \"u\", \"i\", \"o\", \"p\", \"h\", \"j\", \"k\", \"l\", \"n\", \"m\"]\n",
    "\n",
    "# y = a.intersection(left)\n",
    "# z = a.intersection(right)\n",
    "\n",
    "\n",
    "# if y and z:\n",
    "#     print(\"Yes, this is a comfortable word\")\n",
    "# else:\n",
    "#     print(\":(, Try again!\")"
   ]
  },
  {
   "cell_type": "code",
   "execution_count": null,
   "id": "e67525db",
   "metadata": {},
   "outputs": [],
   "source": []
  }
 ],
 "metadata": {
  "kernelspec": {
   "display_name": "Python 3 (ipykernel)",
   "language": "python",
   "name": "python3"
  },
  "language_info": {
   "codemirror_mode": {
    "name": "ipython",
    "version": 3
   },
   "file_extension": ".py",
   "mimetype": "text/x-python",
   "name": "python",
   "nbconvert_exporter": "python",
   "pygments_lexer": "ipython3",
   "version": "3.9.7"
  }
 },
 "nbformat": 4,
 "nbformat_minor": 5
}
