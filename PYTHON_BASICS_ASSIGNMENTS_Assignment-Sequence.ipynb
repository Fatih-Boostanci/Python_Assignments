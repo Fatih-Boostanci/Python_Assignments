{
 "cells": [
  {
   "cell_type": "markdown",
   "id": "a03d5d61",
   "metadata": {},
   "source": [
    "## Assignment - 01 - Sequence"
   ]
  },
  {
   "cell_type": "code",
   "execution_count": null,
   "id": "584ea266",
   "metadata": {},
   "outputs": [],
   "source": [
    "# Arrange the following text variable using \\n and \\t escape sequences \n",
    "# to print the output as follows \n",
    "\n",
    "# NOTES: The second line of the output above has one indentation (a tab char)  \n",
    "# the third line has two indentations (two tab chars). \n",
    "# Disregard PEP 8 rule of \"max 79 chars in a line\"."
   ]
  },
  {
   "cell_type": "code",
   "execution_count": null,
   "id": "01f3847d",
   "metadata": {},
   "outputs": [],
   "source": [
    "# text = \"Clarusway, Clarusway, Clarusway, \\n\\tClarusway, Clarusway, Clarusway,\\n\\t\\tClarusway, Clarusway, Clarusway\"\n",
    "# print(text) "
   ]
  },
  {
   "cell_type": "code",
   "execution_count": null,
   "id": "4034b87e",
   "metadata": {},
   "outputs": [],
   "source": []
  },
  {
   "cell_type": "code",
   "execution_count": null,
   "id": "f97d5ceb",
   "metadata": {},
   "outputs": [],
   "source": []
  }
 ],
 "metadata": {
  "kernelspec": {
   "display_name": "Python 3 (ipykernel)",
   "language": "python",
   "name": "python3"
  },
  "language_info": {
   "codemirror_mode": {
    "name": "ipython",
    "version": 3
   },
   "file_extension": ".py",
   "mimetype": "text/x-python",
   "name": "python",
   "nbconvert_exporter": "python",
   "pygments_lexer": "ipython3",
   "version": "3.9.7"
  }
 },
 "nbformat": 4,
 "nbformat_minor": 5
}
