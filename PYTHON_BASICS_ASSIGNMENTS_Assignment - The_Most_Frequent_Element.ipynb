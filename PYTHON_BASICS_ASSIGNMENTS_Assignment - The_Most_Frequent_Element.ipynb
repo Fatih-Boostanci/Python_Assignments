{
 "cells": [
  {
   "cell_type": "markdown",
   "id": "c75849fe",
   "metadata": {},
   "source": [
    "##  Assignment - 011/01 (The Most Frequent Element)"
   ]
  },
  {
   "cell_type": "code",
   "execution_count": null,
   "id": "542db731",
   "metadata": {},
   "outputs": [],
   "source": [
    "# To improve your knowledge of collection types (list), working with several built-in functions skills.\n",
    "\n",
    "# Task : Find out the most frequent number and its frequency\n",
    "\n",
    "# Write a program that;\n",
    "\n",
    "# Finds out the most frequent number in the given list.\n",
    "# Calculates its frequency.\n",
    "# Prints out the result such as :\n",
    "\n",
    "# EXAMPLE\n",
    "# Givens list                                                            # Desired Output\n",
    "# numbers = [1, 3, 7, 4, 3, 0, 3, 6, 3]                 #the most frequent number is 3 and it was 4 times repeated\n",
    "\n",
    "# NOTE: You may need to use useful/necessary built-in functions and list methods \n",
    "#       other than the functions we haven't covered in the lessons yet. \n",
    "\n",
    "\n"
   ]
  },
  {
   "cell_type": "markdown",
   "id": "07b8fcdc",
   "metadata": {},
   "source": [
    "### Solution"
   ]
  },
  {
   "cell_type": "code",
   "execution_count": null,
   "id": "de66df23",
   "metadata": {},
   "outputs": [],
   "source": [
    "# numbers = [1, 2, 7, 9, 5, 0, 3, 6, 3, 4, 0, 5, 8, 11, 15, 5, 9, 5]\n",
    "# most_common = max(numbers, key=numbers.count)\n",
    "# freq = numbers.count(most_common)\n",
    "# print(f\"The most frequent number in the list is {most_common}, and it was {freq} times repeated\")\n",
    "# Output : The most frequent number in the list is 5, and it was 4 times repeated"
   ]
  },
  {
   "cell_type": "code",
   "execution_count": null,
   "id": "05b8d020",
   "metadata": {},
   "outputs": [],
   "source": []
  }
 ],
 "metadata": {
  "kernelspec": {
   "display_name": "Python 3 (ipykernel)",
   "language": "python",
   "name": "python3"
  },
  "language_info": {
   "codemirror_mode": {
    "name": "ipython",
    "version": 3
   },
   "file_extension": ".py",
   "mimetype": "text/x-python",
   "name": "python",
   "nbconvert_exporter": "python",
   "pygments_lexer": "ipython3",
   "version": "3.9.7"
  }
 },
 "nbformat": 4,
 "nbformat_minor": 5
}
