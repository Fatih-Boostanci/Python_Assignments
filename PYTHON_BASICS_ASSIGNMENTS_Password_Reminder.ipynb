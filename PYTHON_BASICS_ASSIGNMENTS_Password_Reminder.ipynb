{
 "cells": [
  {
   "cell_type": "markdown",
   "id": "6a5ddc3c",
   "metadata": {},
   "source": [
    "## Assignment - 011/01 (Password Reminder)"
   ]
  },
  {
   "cell_type": "markdown",
   "id": "7e6abf84",
   "metadata": {},
   "source": [
    "### To improve your conditional algorithm and string operations skills."
   ]
  },
  {
   "cell_type": "markdown",
   "id": "56ad12d6",
   "metadata": {},
   "source": [
    "### Task : Let's say; you left a message in the past that prints a password you need. \n",
    "### To see the password you wrote, you need to enter your name and the program should recognize you."
   ]
  },
  {
   "cell_type": "markdown",
   "id": "3a82d811",
   "metadata": {},
   "source": [
    "####    Write a program that:\n",
    "\n",
    "- Takes the first name from the user and compares it to yours,\n",
    "- Then if the name the user entered is the same as yours, print out such as : \"Hello, Joseph! The password is : W@12\",\n",
    "- If the name the user entered is not the same as yours, print out such as : \"Hello, Amina! See you later.\""
   ]
  },
  {
   "cell_type": "code",
   "execution_count": null,
   "id": "4491f02b",
   "metadata": {},
   "outputs": [],
   "source": [
    "# given_input = input(\"Please enter your first name:  \")\n",
    "\n",
    "# x = given_input.title()\n",
    "\n",
    "# if x == \"Joseph\":\n",
    "    # print(\"Hello, Joseph! The password is : W@12\")\n",
    "          \n",
    "# else: \n",
    "   #  print(\"Hello, Amina! See you later.\")"
   ]
  },
  {
   "cell_type": "code",
   "execution_count": null,
   "id": "3297c617",
   "metadata": {},
   "outputs": [],
   "source": []
  }
 ],
 "metadata": {
  "kernelspec": {
   "display_name": "Python 3 (ipykernel)",
   "language": "python",
   "name": "python3"
  },
  "language_info": {
   "codemirror_mode": {
    "name": "ipython",
    "version": 3
   },
   "file_extension": ".py",
   "mimetype": "text/x-python",
   "name": "python",
   "nbconvert_exporter": "python",
   "pygments_lexer": "ipython3",
   "version": "3.9.7"
  }
 },
 "nbformat": 4,
 "nbformat_minor": 5
}
