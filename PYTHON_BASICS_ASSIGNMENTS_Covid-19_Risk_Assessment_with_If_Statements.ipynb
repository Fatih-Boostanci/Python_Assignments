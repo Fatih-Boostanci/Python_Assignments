{
 "cells": [
  {
   "cell_type": "markdown",
   "id": "f3c58019",
   "metadata": {},
   "source": [
    "## Assignment - 011/02 (Covid-19 Risk with if Statements)"
   ]
  },
  {
   "cell_type": "markdown",
   "id": "b52bb454",
   "metadata": {},
   "source": [
    "#### Problem :\n",
    "\n",
    "#### Task : Estimating the risk of death from coronavirus. Write a program that;\n",
    "\n",
    "#### Takes \"Yes\" or \"No\" from the user as an answer to the following questions :\n",
    "\n",
    "#### Are you a cigarette addict older than 75 years old? Variable → age\n",
    "\n",
    "#### Do you have a severe chronic disease? Variable → chronic\n",
    "\n",
    "#### Is your immune system too weak? Variable → immune\n",
    "\n",
    "#### Set a logical algorithm using boolean logic operators (and/or) and use if-###statements with the given variables in order to print #### out us a message : \"You are ###in risky group\"(if True ) or \"You are not in risky group\" (if False).\n",
    "#### age =  # can be assigned only True/False\n",
    "#### chronic =  # can be assigned only True/False\n",
    "#### immune =  # can be assigned only True/False\n",
    "#### risk = ?"
   ]
  },
  {
   "cell_type": "code",
   "execution_count": null,
   "id": "1fa52d7b",
   "metadata": {},
   "outputs": [],
   "source": [
    "# age = False\n",
    "# chronic = False\n",
    "# immune = False"
   ]
  },
  {
   "cell_type": "code",
   "execution_count": null,
   "id": "144b5560",
   "metadata": {},
   "outputs": [],
   "source": [
    "# risk = age or chronic or immune\n",
    "# risk"
   ]
  },
  {
   "cell_type": "code",
   "execution_count": 1,
   "id": "6b9600bf",
   "metadata": {},
   "outputs": [
    {
     "name": "stdout",
     "output_type": "stream",
     "text": [
      "Are you a cigarette addict older than 75 years old?: Yes/No  yes\n",
      "Do you have a severe chronic disease?: Yes/No  no\n",
      "Is your immune system too weak?: Yes/No   yes\n",
      "You are in the risky group\n"
     ]
    }
   ],
   "source": [
    "# age = input(\"Are you a cigarette addict older than 75 years old?: Yes/No  \").title()\n",
    "# chronic = input(\"Do you have a severe chronic disease?: Yes/No  \").title()\n",
    "# immnune = input(\"Is your immune system too weak?: Yes/No   \").title()\n",
    "\n",
    "# if (age or chronic or immune) == \"Yes\":\n",
    "#     print(\"You are in the risky group\")\n",
    "# else:\n",
    "#     print(\"You are not in the risky group\")"
   ]
  },
  {
   "cell_type": "code",
   "execution_count": null,
   "id": "3a7c7ae5",
   "metadata": {},
   "outputs": [],
   "source": []
  },
  {
   "cell_type": "code",
   "execution_count": null,
   "id": "c0401f7b",
   "metadata": {},
   "outputs": [],
   "source": []
  }
 ],
 "metadata": {
  "kernelspec": {
   "display_name": "Python 3 (ipykernel)",
   "language": "python",
   "name": "python3"
  },
  "language_info": {
   "codemirror_mode": {
    "name": "ipython",
    "version": 3
   },
   "file_extension": ".py",
   "mimetype": "text/x-python",
   "name": "python",
   "nbconvert_exporter": "python",
   "pygments_lexer": "ipython3",
   "version": "3.9.7"
  }
 },
 "nbformat": 4,
 "nbformat_minor": 5
}
