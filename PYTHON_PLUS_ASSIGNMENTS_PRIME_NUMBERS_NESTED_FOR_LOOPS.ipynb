{
 "cells": [
  {
   "cell_type": "markdown",
   "id": "e40a2e9e",
   "metadata": {},
   "source": [
    "## <font color=red>Assignment - 011/06 (Prime Numbers)</font><br>"
   ]
  },
  {
   "cell_type": "markdown",
   "id": "73d5752c",
   "metadata": {},
   "source": [
    "💡Objective:\n",
    "\n",
    "To improve your control flow statement skills and to raise your awareness of some algebraic knowledge."
   ]
  },
  {
   "cell_type": "markdown",
   "id": "a5f0e129",
   "metadata": {},
   "source": [
    "### <font color=red>Task : Print the prime numbers which are between 1 to entered limit number (n)</font><br>"
   ]
  },
  {
   "cell_type": "markdown",
   "id": "8b11fee7",
   "metadata": {},
   "source": [
    "1. You can use a nested for loop.\n",
    "2. Collect all these numbers into a list"
   ]
  },
  {
   "cell_type": "code",
   "execution_count": null,
   "id": "c2aa042e",
   "metadata": {},
   "outputs": [],
   "source": [
    "prime = []\n",
    "\n",
    "for i in range(2, 100) :\n",
    "    \n",
    "    for j in range(2, i) :\n",
    "        \n",
    "        if i % j == 0 and j != i:\n",
    "            \n",
    "            break\n",
    "            \n",
    "    else :\n",
    "        \n",
    "        prime.append(i)\n",
    "        \n",
    "print(prime)"
   ]
  },
  {
   "cell_type": "code",
   "execution_count": null,
   "id": "835e9d85",
   "metadata": {},
   "outputs": [],
   "source": []
  },
  {
   "cell_type": "code",
   "execution_count": null,
   "id": "740a3afb",
   "metadata": {},
   "outputs": [],
   "source": []
  },
  {
   "cell_type": "code",
   "execution_count": null,
   "id": "b0ee1e63",
   "metadata": {},
   "outputs": [],
   "source": []
  }
 ],
 "metadata": {
  "kernelspec": {
   "display_name": "Python 3 (ipykernel)",
   "language": "python",
   "name": "python3"
  },
  "language_info": {
   "codemirror_mode": {
    "name": "ipython",
    "version": 3
   },
   "file_extension": ".py",
   "mimetype": "text/x-python",
   "name": "python",
   "nbconvert_exporter": "python",
   "pygments_lexer": "ipython3",
   "version": "3.9.7"
  }
 },
 "nbformat": 4,
 "nbformat_minor": 5
}
