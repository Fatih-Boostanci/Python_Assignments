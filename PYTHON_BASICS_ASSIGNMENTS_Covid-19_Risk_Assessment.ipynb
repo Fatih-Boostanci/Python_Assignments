{
 "cells": [
  {
   "cell_type": "markdown",
   "id": "6beaf660",
   "metadata": {},
   "source": [
    "## Assignment - 011/03 (Covid-19 Risk)"
   ]
  },
  {
   "cell_type": "markdown",
   "id": "d0db7939",
   "metadata": {},
   "source": [
    "__IOT improve your boolean logical algorithm skills__<br> <br>\n",
    "\n",
    "__Task : Estimating the risk of death from coronavirus.__<br> <br>\n",
    "\n",
    "__Consider the following questions- \n",
    "in terms of True/False regarding anyone else_\n",
    "\n",
    "  - Are you a cigarette addict older than 75 years old? Variable → age(T/F)\n",
    "  - Do you have a severe chronic disease? Variable → chronic (T/F)\n",
    "  - Is your immune system too weak? Variable → immune(T/F) --> risk (T/F)\n",
    "\n",
    "__Set a logical algorithm using boolean logic operators (and/or)- \n",
    " and the given variables in order to give us- \n",
    " True (there is a risk of death) or False (there is not a risk of death) as a result.__"
   ]
  },
  {
   "cell_type": "code",
   "execution_count": null,
   "id": "398bbea9",
   "metadata": {},
   "outputs": [],
   "source": [
    "# age = True              # death risk is high\n",
    "\n",
    "# chronic = True       # death risk is high\n",
    "\n",
    "# immune = False     # death risk is low\n",
    "\n",
    "# risk = age and chronic or immune\n",
    "\n",
    "# print(risk, \"(There is a risk of death)\")"
   ]
  },
  {
   "cell_type": "code",
   "execution_count": null,
   "id": "356bab3b",
   "metadata": {},
   "outputs": [],
   "source": []
  }
 ],
 "metadata": {
  "kernelspec": {
   "display_name": "Python 3 (ipykernel)",
   "language": "python",
   "name": "python3"
  },
  "language_info": {
   "codemirror_mode": {
    "name": "ipython",
    "version": 3
   },
   "file_extension": ".py",
   "mimetype": "text/x-python",
   "name": "python",
   "nbconvert_exporter": "python",
   "pygments_lexer": "ipython3",
   "version": "3.9.7"
  }
 },
 "nbformat": 4,
 "nbformat_minor": 5
}
